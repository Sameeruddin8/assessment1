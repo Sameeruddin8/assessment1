{
 "cells": [
  {
   "cell_type": "code",
   "execution_count": 7,
   "id": "e5f25d12",
   "metadata": {},
   "outputs": [],
   "source": [
    "def test(ops):\n",
    "    record = []\n",
    "    for op in ops:\n",
    "        if op == 'C':\n",
    "            record.pop()\n",
    "        elif op == 'D':\n",
    "            record.append(2*record[-1])\n",
    "        elif op == '+':\n",
    "            record.append(record[-1] + record[-2])\n",
    "        else:\n",
    "            record.append(int(op))\n",
    "    return sum(record)"
   ]
  },
  {
   "cell_type": "code",
   "execution_count": 8,
   "id": "a9f1c4b1",
   "metadata": {},
   "outputs": [
    {
     "name": "stdout",
     "output_type": "stream",
     "text": [
      "30\n"
     ]
    }
   ],
   "source": [
    "ops = ['5', '2', 'C', 'D', '+']\n",
    "print(test(ops))"
   ]
  },
  {
   "cell_type": "code",
   "execution_count": 10,
   "id": "ae32c70a",
   "metadata": {},
   "outputs": [
    {
     "name": "stdout",
     "output_type": "stream",
     "text": [
      "27\n"
     ]
    }
   ],
   "source": [
    "ops = [\"5\", \"-2\", \"4\", \"C\", \"D\", \"9\", \"+\", \"+\"]\n",
    "print(test(ops))"
   ]
  },
  {
   "cell_type": "code",
   "execution_count": null,
   "id": "adc851d2",
   "metadata": {},
   "outputs": [],
   "source": []
  }
 ],
 "metadata": {
  "kernelspec": {
   "display_name": "Python 3 (ipykernel)",
   "language": "python",
   "name": "python3"
  },
  "language_info": {
   "codemirror_mode": {
    "name": "ipython",
    "version": 3
   },
   "file_extension": ".py",
   "mimetype": "text/x-python",
   "name": "python",
   "nbconvert_exporter": "python",
   "pygments_lexer": "ipython3",
   "version": "3.11.5"
  }
 },
 "nbformat": 4,
 "nbformat_minor": 5
}
